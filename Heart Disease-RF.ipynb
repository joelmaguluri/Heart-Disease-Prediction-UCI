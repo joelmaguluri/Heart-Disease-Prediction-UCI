{
 "cells": [
  {
   "cell_type": "code",
   "execution_count": 27,
   "metadata": {},
   "outputs": [],
   "source": [
    "import warnings\n",
    "warnings.filterwarnings(action='ignore')"
   ]
  },
  {
   "cell_type": "code",
   "execution_count": 28,
   "metadata": {
    "scrolled": false,
    "tags": []
   },
   "outputs": [],
   "source": [
    "import numpy as np\n",
    "import pandas as pd\n",
    "import matplotlib.pyplot as plt\n",
    "import seaborn as sns"
   ]
  },
  {
   "cell_type": "code",
   "execution_count": 29,
   "metadata": {},
   "outputs": [],
   "source": [
    "path='./heart.csv'"
   ]
  },
  {
   "cell_type": "code",
   "execution_count": 30,
   "metadata": {},
   "outputs": [],
   "source": [
    "df=pd.read_csv(path)"
   ]
  },
  {
   "cell_type": "code",
   "execution_count": 31,
   "metadata": {
    "scrolled": true
   },
   "outputs": [
    {
     "output_type": "execute_result",
     "data": {
      "text/plain": "Index(['age', 'sex', 'cp', 'trestbps', 'chol', 'fbs', 'restecg', 'thalach',\n       'exang', 'oldpeak', 'slope', 'ca', 'thal', 'target'],\n      dtype='object')"
     },
     "metadata": {},
     "execution_count": 31
    }
   ],
   "source": [
    "df.columns"
   ]
  },
  {
   "cell_type": "code",
   "execution_count": 32,
   "metadata": {},
   "outputs": [],
   "source": [
    "#finding and removing the duplicate columns"
   ]
  },
  {
   "cell_type": "code",
   "execution_count": 33,
   "metadata": {
    "tags": []
   },
   "outputs": [
    {
     "output_type": "stream",
     "name": "stdout",
     "text": "Duplicate Rows except first occurrence based on all columns are :\n"
    },
    {
     "output_type": "execute_result",
     "data": {
      "text/plain": "     age  sex  cp  trestbps  chol  fbs  restecg  thalach  exang  oldpeak  \\\n164   38    1   2       138   175    0        1      173      0      0.0   \n\n     slope  ca  thal  target  \n164      2   4     2       1  ",
      "text/html": "<div>\n<style scoped>\n    .dataframe tbody tr th:only-of-type {\n        vertical-align: middle;\n    }\n\n    .dataframe tbody tr th {\n        vertical-align: top;\n    }\n\n    .dataframe thead th {\n        text-align: right;\n    }\n</style>\n<table border=\"1\" class=\"dataframe\">\n  <thead>\n    <tr style=\"text-align: right;\">\n      <th></th>\n      <th>age</th>\n      <th>sex</th>\n      <th>cp</th>\n      <th>trestbps</th>\n      <th>chol</th>\n      <th>fbs</th>\n      <th>restecg</th>\n      <th>thalach</th>\n      <th>exang</th>\n      <th>oldpeak</th>\n      <th>slope</th>\n      <th>ca</th>\n      <th>thal</th>\n      <th>target</th>\n    </tr>\n  </thead>\n  <tbody>\n    <tr>\n      <th>164</th>\n      <td>38</td>\n      <td>1</td>\n      <td>2</td>\n      <td>138</td>\n      <td>175</td>\n      <td>0</td>\n      <td>1</td>\n      <td>173</td>\n      <td>0</td>\n      <td>0.0</td>\n      <td>2</td>\n      <td>4</td>\n      <td>2</td>\n      <td>1</td>\n    </tr>\n  </tbody>\n</table>\n</div>"
     },
     "metadata": {},
     "execution_count": 33
    }
   ],
   "source": [
    "duplicateRowsDF = df[df.duplicated(keep='first')]\n",
    "print(\"Duplicate Rows except first occurrence based on all columns are :\")\n",
    "duplicateRowsDF"
   ]
  },
  {
   "cell_type": "code",
   "execution_count": 34,
   "metadata": {},
   "outputs": [],
   "source": [
    "df.drop_duplicates(keep='first',inplace=True)"
   ]
  },
  {
   "cell_type": "code",
   "execution_count": 35,
   "metadata": {},
   "outputs": [],
   "source": [
    "columns=list(df.columns)"
   ]
  },
  {
   "cell_type": "raw",
   "metadata": {},
   "source": [
    "creating of age\n",
    "early adults : 20-40 \n",
    "middle adults : 40-65\n",
    "adults: above 65"
   ]
  },
  {
   "cell_type": "code",
   "execution_count": 36,
   "metadata": {
    "scrolled": true
   },
   "outputs": [
    {
     "output_type": "execute_result",
     "data": {
      "text/plain": "0.7333333333333333"
     },
     "metadata": {},
     "execution_count": 36
    }
   ],
   "source": [
    "df[(df.age>=20)&(df.age<40)].target.mean()"
   ]
  },
  {
   "cell_type": "code",
   "execution_count": 37,
   "metadata": {},
   "outputs": [
    {
     "output_type": "execute_result",
     "data": {
      "text/plain": "0.5365853658536586"
     },
     "metadata": {},
     "execution_count": 37
    }
   ],
   "source": [
    "df[(df.age>=40)&(df.age<65)].target.mean()"
   ]
  },
  {
   "cell_type": "code",
   "execution_count": 38,
   "metadata": {},
   "outputs": [
    {
     "output_type": "execute_result",
     "data": {
      "text/plain": "0.5121951219512195"
     },
     "metadata": {},
     "execution_count": 38
    }
   ],
   "source": [
    "df[(df.age>=65)].target.mean()"
   ]
  },
  {
   "cell_type": "code",
   "execution_count": 39,
   "metadata": {},
   "outputs": [],
   "source": [
    "def replaceAgeWithCatogery(value):\n",
    "    if(value>=20 and value<40):\n",
    "        return 'YoungAdult'\n",
    "    elif(value>=40 and value<65):\n",
    "        return 'MiddleageAdult'\n",
    "    else:\n",
    "        return 'Oldaged'\n",
    "\n"
   ]
  },
  {
   "cell_type": "code",
   "execution_count": 40,
   "metadata": {},
   "outputs": [],
   "source": [
    "df.age=df.age.apply(replaceAgeWithCatogery)"
   ]
  },
  {
   "cell_type": "code",
   "execution_count": 41,
   "metadata": {},
   "outputs": [],
   "source": [
    "def replaceSexWithCatogery(value):\n",
    "    if(value==1):\n",
    "        return 'male'\n",
    "    else: \n",
    "        return 'female'\n"
   ]
  },
  {
   "cell_type": "code",
   "execution_count": 42,
   "metadata": {},
   "outputs": [],
   "source": [
    "df.sex=df.sex.apply(replaceSexWithCatogery)"
   ]
  },
  {
   "cell_type": "code",
   "execution_count": 43,
   "metadata": {},
   "outputs": [
    {
     "output_type": "execute_result",
     "data": {
      "text/plain": "Index(['age', 'sex', 'cp', 'trestbps', 'chol', 'fbs', 'restecg', 'thalach',\n       'exang', 'oldpeak', 'slope', 'ca', 'thal', 'target'],\n      dtype='object')"
     },
     "metadata": {},
     "execution_count": 43
    }
   ],
   "source": [
    "df.columns"
   ]
  },
  {
   "cell_type": "code",
   "execution_count": 44,
   "metadata": {},
   "outputs": [],
   "source": [
    "def getCatogericalandNumericalColumns(columns):\n",
    "    numericalcolumns=[]\n",
    "    catogericalcolumns=[]\n",
    "    for column in columns:\n",
    "        if(len(df[column].value_counts())<=7):\n",
    "            catogericalcolumns.append(column)\n",
    "        else:\n",
    "            numericalcolumns.append(column)\n",
    "    return numericalcolumns,catogericalcolumns"
   ]
  },
  {
   "cell_type": "code",
   "execution_count": 45,
   "metadata": {
    "tags": []
   },
   "outputs": [],
   "source": [
    "(num,cat)=getCatogericalandNumericalColumns(columns)"
   ]
  },
  {
   "cell_type": "code",
   "execution_count": 46,
   "metadata": {},
   "outputs": [
    {
     "output_type": "execute_result",
     "data": {
      "text/plain": "['trestbps', 'chol', 'thalach', 'oldpeak']"
     },
     "metadata": {},
     "execution_count": 46
    }
   ],
   "source": [
    "num"
   ]
  },
  {
   "cell_type": "code",
   "execution_count": 47,
   "metadata": {},
   "outputs": [],
   "source": [
    "#checking for outliers"
   ]
  },
  {
   "cell_type": "code",
   "execution_count": 3,
   "metadata": {},
   "outputs": [
    {
     "output_type": "error",
     "ename": "NameError",
     "evalue": "name 'plt' is not defined",
     "traceback": [
      "\u001b[1;31m---------------------------------------------------------------------------\u001b[0m",
      "\u001b[1;31mNameError\u001b[0m                                 Traceback (most recent call last)",
      "\u001b[1;32m<ipython-input-3-7ecf7face330>\u001b[0m in \u001b[0;36m<module>\u001b[1;34m\u001b[0m\n\u001b[1;32m----> 1\u001b[1;33m \u001b[0mfig\u001b[0m\u001b[1;33m,\u001b[0m \u001b[1;33m(\u001b[0m\u001b[0maxes\u001b[0m\u001b[1;33m)\u001b[0m \u001b[1;33m=\u001b[0m \u001b[0mplt\u001b[0m\u001b[1;33m.\u001b[0m\u001b[0msubplots\u001b[0m\u001b[1;33m(\u001b[0m\u001b[0mnrows\u001b[0m\u001b[1;33m=\u001b[0m\u001b[1;36m1\u001b[0m\u001b[1;33m,\u001b[0m \u001b[0mncols\u001b[0m\u001b[1;33m=\u001b[0m\u001b[1;36m4\u001b[0m\u001b[1;33m,\u001b[0m \u001b[0mfigsize\u001b[0m\u001b[1;33m=\u001b[0m\u001b[1;33m(\u001b[0m\u001b[1;36m16\u001b[0m\u001b[1;33m,\u001b[0m \u001b[1;36m5\u001b[0m\u001b[1;33m)\u001b[0m\u001b[1;33m)\u001b[0m\u001b[1;33m\u001b[0m\u001b[1;33m\u001b[0m\u001b[0m\n\u001b[0m\u001b[0;32m      2\u001b[0m \u001b[0msns\u001b[0m\u001b[1;33m.\u001b[0m\u001b[0mboxplot\u001b[0m\u001b[1;33m(\u001b[0m\u001b[0mdata\u001b[0m\u001b[1;33m=\u001b[0m\u001b[0mdf\u001b[0m\u001b[1;33m[\u001b[0m\u001b[1;33m[\u001b[0m\u001b[1;34m'trestbps'\u001b[0m\u001b[1;33m]\u001b[0m\u001b[1;33m]\u001b[0m\u001b[1;33m,\u001b[0m  \u001b[0mpalette\u001b[0m\u001b[1;33m=\u001b[0m\u001b[1;34m'Set2'\u001b[0m\u001b[1;33m,\u001b[0m \u001b[0max\u001b[0m\u001b[1;33m=\u001b[0m\u001b[0maxes\u001b[0m\u001b[1;33m[\u001b[0m\u001b[1;36m0\u001b[0m\u001b[1;33m]\u001b[0m\u001b[1;33m)\u001b[0m\u001b[1;33m;\u001b[0m\u001b[1;33m\u001b[0m\u001b[1;33m\u001b[0m\u001b[0m\n\u001b[0;32m      3\u001b[0m \u001b[0msns\u001b[0m\u001b[1;33m.\u001b[0m\u001b[0mboxplot\u001b[0m\u001b[1;33m(\u001b[0m\u001b[0mdata\u001b[0m\u001b[1;33m=\u001b[0m\u001b[0mdf\u001b[0m\u001b[1;33m[\u001b[0m\u001b[1;33m[\u001b[0m\u001b[1;34m'chol'\u001b[0m\u001b[1;33m]\u001b[0m\u001b[1;33m]\u001b[0m\u001b[1;33m,\u001b[0m  \u001b[0mpalette\u001b[0m\u001b[1;33m=\u001b[0m\u001b[1;34m'Set2'\u001b[0m\u001b[1;33m,\u001b[0m \u001b[0max\u001b[0m\u001b[1;33m=\u001b[0m\u001b[0maxes\u001b[0m\u001b[1;33m[\u001b[0m\u001b[1;36m1\u001b[0m\u001b[1;33m]\u001b[0m\u001b[1;33m)\u001b[0m\u001b[1;33m;\u001b[0m\u001b[1;33m\u001b[0m\u001b[1;33m\u001b[0m\u001b[0m\n\u001b[0;32m      4\u001b[0m \u001b[0msns\u001b[0m\u001b[1;33m.\u001b[0m\u001b[0mboxplot\u001b[0m\u001b[1;33m(\u001b[0m\u001b[0mdata\u001b[0m\u001b[1;33m=\u001b[0m\u001b[0mdf\u001b[0m\u001b[1;33m[\u001b[0m\u001b[1;33m[\u001b[0m\u001b[1;34m'thalach'\u001b[0m\u001b[1;33m]\u001b[0m\u001b[1;33m]\u001b[0m\u001b[1;33m,\u001b[0m  \u001b[0mpalette\u001b[0m\u001b[1;33m=\u001b[0m\u001b[1;34m'Set2'\u001b[0m\u001b[1;33m,\u001b[0m \u001b[0max\u001b[0m\u001b[1;33m=\u001b[0m\u001b[0maxes\u001b[0m\u001b[1;33m[\u001b[0m\u001b[1;36m2\u001b[0m\u001b[1;33m]\u001b[0m\u001b[1;33m)\u001b[0m\u001b[1;33m;\u001b[0m\u001b[1;33m\u001b[0m\u001b[1;33m\u001b[0m\u001b[0m\n\u001b[0;32m      5\u001b[0m \u001b[0msns\u001b[0m\u001b[1;33m.\u001b[0m\u001b[0mboxplot\u001b[0m\u001b[1;33m(\u001b[0m\u001b[0mdata\u001b[0m\u001b[1;33m=\u001b[0m\u001b[0mdf\u001b[0m\u001b[1;33m[\u001b[0m\u001b[1;33m[\u001b[0m\u001b[1;34m'oldpeak'\u001b[0m\u001b[1;33m]\u001b[0m\u001b[1;33m]\u001b[0m\u001b[1;33m,\u001b[0m  \u001b[0mpalette\u001b[0m\u001b[1;33m=\u001b[0m\u001b[1;34m'Set2'\u001b[0m\u001b[1;33m,\u001b[0m \u001b[0max\u001b[0m\u001b[1;33m=\u001b[0m\u001b[0maxes\u001b[0m\u001b[1;33m[\u001b[0m\u001b[1;36m3\u001b[0m\u001b[1;33m]\u001b[0m\u001b[1;33m)\u001b[0m\u001b[1;33m;\u001b[0m\u001b[1;33m\u001b[0m\u001b[1;33m\u001b[0m\u001b[0m\n",
      "\u001b[1;31mNameError\u001b[0m: name 'plt' is not defined"
     ]
    }
   ],
   "source": [
    "fig, (axes) = plt.subplots(nrows=1, ncols=4, figsize=(16, 5))\n",
    "sns.boxplot(data=df[['trestbps']],  palette='Set2', ax=axes[0]);\n",
    "sns.boxplot(data=df[['chol']],  palette='Set2', ax=axes[1]);\n",
    "sns.boxplot(data=df[['thalach']],  palette='Set2', ax=axes[2]);\n",
    "sns.boxplot(data=df[['oldpeak']],  palette='Set2', ax=axes[3]);"
   ]
  },
  {
   "cell_type": "code",
   "execution_count": 49,
   "metadata": {},
   "outputs": [],
   "source": [
    "Q1 = df[num].quantile(0.25)\n",
    "Q3 = df[num].quantile(0.75)\n",
    "IQR = Q3 - Q1"
   ]
  },
  {
   "cell_type": "code",
   "execution_count": 50,
   "metadata": {
    "tags": []
   },
   "outputs": [
    {
     "output_type": "stream",
     "name": "stdout",
     "text": "Int64Index([8, 101, 110, 203, 223, 241, 248, 260, 266], dtype='int64')\nInt64Index([28, 85, 96, 220, 246], dtype='int64')\nInt64Index([272], dtype='int64')\nInt64Index([101, 204, 221, 250, 291], dtype='int64')\n"
    }
   ],
   "source": [
    "for col in num:\n",
    "    low  = Q1[col] - 1.5 * IQR[col]\n",
    "    high = Q3[col] + 1.5 * IQR[col]\n",
    "# Filtering Values between Q1-1.5IQR and Q3+1.5IQR\n",
    "    query_string = '{} < @low or {} > @high'.format(col, col)\n",
    "\n",
    "    outlier_arr1 = df.query(query_string).index\n",
    "    print(outlier_arr1)"
   ]
  },
  {
   "cell_type": "code",
   "execution_count": 51,
   "metadata": {},
   "outputs": [],
   "source": [
    "def updateNumLowHigh(col):\n",
    "    low  = Q1[col] - 1.5 * IQR[col]\n",
    "    high = Q3[col] + 1.5 * IQR[col]\n",
    "    df.loc[df[col]<low,[col]]=low\n",
    "    df.loc[df[col]>high,[col]]=high"
   ]
  },
  {
   "cell_type": "code",
   "execution_count": 52,
   "metadata": {},
   "outputs": [],
   "source": [
    "for col in num:\n",
    "    updateNumLowHigh(col)"
   ]
  },
  {
   "cell_type": "code",
   "execution_count": 54,
   "metadata": {},
   "outputs": [
    {
     "output_type": "execute_result",
     "data": {
      "text/plain": "                age     sex  cp  trestbps   chol  fbs  restecg  thalach  \\\n0    MiddleageAdult    male   3     145.0  233.0    1        0    150.0   \n1        YoungAdult    male   2     130.0  250.0    0        1    187.0   \n2    MiddleageAdult  female   1     130.0  204.0    0        0    172.0   \n3    MiddleageAdult    male   1     120.0  236.0    0        1    178.0   \n4    MiddleageAdult  female   0     120.0  354.0    0        1    163.0   \n..              ...     ...  ..       ...    ...  ...      ...      ...   \n298  MiddleageAdult  female   0     140.0  241.0    0        1    123.0   \n299  MiddleageAdult    male   3     110.0  264.0    0        1    132.0   \n300         Oldaged    male   0     144.0  193.0    1        1    141.0   \n301  MiddleageAdult    male   0     130.0  131.0    0        1    115.0   \n302  MiddleageAdult  female   1     130.0  236.0    0        0    174.0   \n\n     exang  oldpeak  slope  ca  thal  target  \n0        0      2.3      0   0     1       1  \n1        0      3.5      0   0     2       1  \n2        0      1.4      2   0     2       1  \n3        0      0.8      2   0     2       1  \n4        1      0.6      2   0     2       1  \n..     ...      ...    ...  ..   ...     ...  \n298      1      0.2      1   0     3       0  \n299      0      1.2      1   0     3       0  \n300      0      3.4      1   2     3       0  \n301      1      1.2      1   1     3       0  \n302      0      0.0      1   1     2       0  \n\n[302 rows x 14 columns]",
      "text/html": "<div>\n<style scoped>\n    .dataframe tbody tr th:only-of-type {\n        vertical-align: middle;\n    }\n\n    .dataframe tbody tr th {\n        vertical-align: top;\n    }\n\n    .dataframe thead th {\n        text-align: right;\n    }\n</style>\n<table border=\"1\" class=\"dataframe\">\n  <thead>\n    <tr style=\"text-align: right;\">\n      <th></th>\n      <th>age</th>\n      <th>sex</th>\n      <th>cp</th>\n      <th>trestbps</th>\n      <th>chol</th>\n      <th>fbs</th>\n      <th>restecg</th>\n      <th>thalach</th>\n      <th>exang</th>\n      <th>oldpeak</th>\n      <th>slope</th>\n      <th>ca</th>\n      <th>thal</th>\n      <th>target</th>\n    </tr>\n  </thead>\n  <tbody>\n    <tr>\n      <th>0</th>\n      <td>MiddleageAdult</td>\n      <td>male</td>\n      <td>3</td>\n      <td>145.0</td>\n      <td>233.0</td>\n      <td>1</td>\n      <td>0</td>\n      <td>150.0</td>\n      <td>0</td>\n      <td>2.3</td>\n      <td>0</td>\n      <td>0</td>\n      <td>1</td>\n      <td>1</td>\n    </tr>\n    <tr>\n      <th>1</th>\n      <td>YoungAdult</td>\n      <td>male</td>\n      <td>2</td>\n      <td>130.0</td>\n      <td>250.0</td>\n      <td>0</td>\n      <td>1</td>\n      <td>187.0</td>\n      <td>0</td>\n      <td>3.5</td>\n      <td>0</td>\n      <td>0</td>\n      <td>2</td>\n      <td>1</td>\n    </tr>\n    <tr>\n      <th>2</th>\n      <td>MiddleageAdult</td>\n      <td>female</td>\n      <td>1</td>\n      <td>130.0</td>\n      <td>204.0</td>\n      <td>0</td>\n      <td>0</td>\n      <td>172.0</td>\n      <td>0</td>\n      <td>1.4</td>\n      <td>2</td>\n      <td>0</td>\n      <td>2</td>\n      <td>1</td>\n    </tr>\n    <tr>\n      <th>3</th>\n      <td>MiddleageAdult</td>\n      <td>male</td>\n      <td>1</td>\n      <td>120.0</td>\n      <td>236.0</td>\n      <td>0</td>\n      <td>1</td>\n      <td>178.0</td>\n      <td>0</td>\n      <td>0.8</td>\n      <td>2</td>\n      <td>0</td>\n      <td>2</td>\n      <td>1</td>\n    </tr>\n    <tr>\n      <th>4</th>\n      <td>MiddleageAdult</td>\n      <td>female</td>\n      <td>0</td>\n      <td>120.0</td>\n      <td>354.0</td>\n      <td>0</td>\n      <td>1</td>\n      <td>163.0</td>\n      <td>1</td>\n      <td>0.6</td>\n      <td>2</td>\n      <td>0</td>\n      <td>2</td>\n      <td>1</td>\n    </tr>\n    <tr>\n      <th>...</th>\n      <td>...</td>\n      <td>...</td>\n      <td>...</td>\n      <td>...</td>\n      <td>...</td>\n      <td>...</td>\n      <td>...</td>\n      <td>...</td>\n      <td>...</td>\n      <td>...</td>\n      <td>...</td>\n      <td>...</td>\n      <td>...</td>\n      <td>...</td>\n    </tr>\n    <tr>\n      <th>298</th>\n      <td>MiddleageAdult</td>\n      <td>female</td>\n      <td>0</td>\n      <td>140.0</td>\n      <td>241.0</td>\n      <td>0</td>\n      <td>1</td>\n      <td>123.0</td>\n      <td>1</td>\n      <td>0.2</td>\n      <td>1</td>\n      <td>0</td>\n      <td>3</td>\n      <td>0</td>\n    </tr>\n    <tr>\n      <th>299</th>\n      <td>MiddleageAdult</td>\n      <td>male</td>\n      <td>3</td>\n      <td>110.0</td>\n      <td>264.0</td>\n      <td>0</td>\n      <td>1</td>\n      <td>132.0</td>\n      <td>0</td>\n      <td>1.2</td>\n      <td>1</td>\n      <td>0</td>\n      <td>3</td>\n      <td>0</td>\n    </tr>\n    <tr>\n      <th>300</th>\n      <td>Oldaged</td>\n      <td>male</td>\n      <td>0</td>\n      <td>144.0</td>\n      <td>193.0</td>\n      <td>1</td>\n      <td>1</td>\n      <td>141.0</td>\n      <td>0</td>\n      <td>3.4</td>\n      <td>1</td>\n      <td>2</td>\n      <td>3</td>\n      <td>0</td>\n    </tr>\n    <tr>\n      <th>301</th>\n      <td>MiddleageAdult</td>\n      <td>male</td>\n      <td>0</td>\n      <td>130.0</td>\n      <td>131.0</td>\n      <td>0</td>\n      <td>1</td>\n      <td>115.0</td>\n      <td>1</td>\n      <td>1.2</td>\n      <td>1</td>\n      <td>1</td>\n      <td>3</td>\n      <td>0</td>\n    </tr>\n    <tr>\n      <th>302</th>\n      <td>MiddleageAdult</td>\n      <td>female</td>\n      <td>1</td>\n      <td>130.0</td>\n      <td>236.0</td>\n      <td>0</td>\n      <td>0</td>\n      <td>174.0</td>\n      <td>0</td>\n      <td>0.0</td>\n      <td>1</td>\n      <td>1</td>\n      <td>2</td>\n      <td>0</td>\n    </tr>\n  </tbody>\n</table>\n<p>302 rows × 14 columns</p>\n</div>"
     },
     "metadata": {},
     "execution_count": 54
    }
   ],
   "source": [
    "df"
   ]
  },
  {
   "cell_type": "code",
   "execution_count": 60,
   "metadata": {},
   "outputs": [],
   "source": [
    "from sklearn.preprocessing import StandardScaler, OneHotEncoder\n",
    "from sklearn.compose import ColumnTransformer, make_column_transformer"
   ]
  },
  {
   "cell_type": "code",
   "execution_count": 62,
   "metadata": {},
   "outputs": [],
   "source": [
    "cat.remove('target')"
   ]
  },
  {
   "cell_type": "code",
   "execution_count": 64,
   "metadata": {},
   "outputs": [],
   "source": [
    "preprocess = make_column_transformer(\n",
    "    (StandardScaler(), num),\n",
    "    (OneHotEncoder(),  cat)\n",
    ")"
   ]
  },
  {
   "cell_type": "code",
   "execution_count": 65,
   "metadata": {},
   "outputs": [],
   "source": [
    "newdf=preprocess.fit_transform(df)"
   ]
  },
  {
   "cell_type": "code",
   "execution_count": 69,
   "metadata": {},
   "outputs": [],
   "source": [
    "newdf=pd.DataFrame(data=newdf)"
   ]
  },
  {
   "cell_type": "code",
   "execution_count": 71,
   "metadata": {},
   "outputs": [],
   "source": [
    "from sklearn.metrics import accuracy_score\n",
    "from sklearn.ensemble import RandomForestClassifier\n",
    "from sklearn.model_selection import train_test_split"
   ]
  },
  {
   "cell_type": "code",
   "execution_count": 72,
   "metadata": {},
   "outputs": [],
   "source": [
    "X_train,X_test,y_train,y_test=train_test_split(newdf,target,test_size=30,random_state=1)"
   ]
  },
  {
   "cell_type": "code",
   "execution_count": 73,
   "metadata": {
    "tags": []
   },
   "outputs": [
    {
     "output_type": "stream",
     "name": "stdout",
     "text": "0.8333333333333334\n"
    }
   ],
   "source": [
    "rfc = RandomForestClassifier()     #by default random forest is using 100 trees\n",
    "rfc.fit(X_train,y_train)\n",
    "\n",
    "y_pred=rfc.predict(X_test)\n",
    "\n",
    "print(accuracy_score(y_test,y_pred))"
   ]
  },
  {
   "cell_type": "code",
   "execution_count": 84,
   "metadata": {
    "tags": []
   },
   "outputs": [
    {
     "output_type": "stream",
     "name": "stdout",
     "text": "0.8666666666666667\n"
    }
   ],
   "source": [
    "r=RandomForestClassifier(n_estimators=100,criterion='gini',max_depth=2,random_state=7)     #by default criterion is gini\n",
    "r.fit(X_train,y_train)\n",
    "y_pred=r.predict(X_test)\n",
    "print(accuracy_score(y_test,y_pred))"
   ]
  },
  {
   "cell_type": "code",
   "execution_count": null,
   "metadata": {},
   "outputs": [],
   "source": [
    "#fitting knn "
   ]
  },
  {
   "cell_type": "code",
   "execution_count": 85,
   "metadata": {},
   "outputs": [],
   "source": [
    "# import the ML algorithm\n",
    "from sklearn.neighbors import KNeighborsClassifier\n",
    "from sklearn.neighbors import KNeighborsRegressor\n",
    "\n",
    "from sklearn.neighbors import NearestNeighbors"
   ]
  },
  {
   "cell_type": "code",
   "execution_count": 100,
   "metadata": {},
   "outputs": [
    {
     "output_type": "execute_result",
     "data": {
      "text/plain": "KNeighborsClassifier(algorithm='auto', leaf_size=30, metric='minkowski',\n                     metric_params=None, n_jobs=None, n_neighbors=7, p=2,\n                     weights='uniform')"
     },
     "metadata": {},
     "execution_count": 100
    }
   ],
   "source": [
    "# instantiate the classifier \n",
    "clf = KNeighborsClassifier(n_neighbors=7)  \n",
    "clf"
   ]
  },
  {
   "cell_type": "code",
   "execution_count": 101,
   "metadata": {},
   "outputs": [
    {
     "output_type": "execute_result",
     "data": {
      "text/plain": "KNeighborsClassifier(algorithm='auto', leaf_size=30, metric='minkowski',\n                     metric_params=None, n_jobs=None, n_neighbors=7, p=2,\n                     weights='uniform')"
     },
     "metadata": {},
     "execution_count": 101
    }
   ],
   "source": [
    "clf.fit(X_train,y_train)"
   ]
  },
  {
   "cell_type": "code",
   "execution_count": 102,
   "metadata": {
    "tags": []
   },
   "outputs": [
    {
     "output_type": "stream",
     "name": "stdout",
     "text": "0.8666666666666667\n"
    }
   ],
   "source": [
    "y_pred=clf.predict(X_test)\n",
    "print(accuracy_score(y_test,y_pred))"
   ]
  },
  {
   "cell_type": "code",
   "execution_count": null,
   "metadata": {},
   "outputs": [],
   "source": []
  }
 ],
 "metadata": {
  "kernelspec": {
   "display_name": "Python 3",
   "language": "python",
   "name": "python3"
  },
  "language_info": {
   "codemirror_mode": {
    "name": "ipython",
    "version": 3
   },
   "file_extension": ".py",
   "mimetype": "text/x-python",
   "name": "python",
   "nbconvert_exporter": "python",
   "pygments_lexer": "ipython3",
   "version": "3.8.0-beta"
  }
 },
 "nbformat": 4,
 "nbformat_minor": 4
}